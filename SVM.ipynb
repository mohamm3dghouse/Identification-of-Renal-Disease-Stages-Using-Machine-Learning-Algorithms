{
 "cells": [
  {
   "cell_type": "code",
   "execution_count": 1,
   "id": "df437f93",
   "metadata": {},
   "outputs": [],
   "source": [
    "# Linear Algebra\n",
    "import numpy as np\n",
    "\n",
    "# Data Processing\n",
    "import pandas as pd\n",
    "\n",
    "# Data visualization\n",
    "import matplotlib.pyplot as plt\n",
    "%matplotlib inline\n",
    "import seaborn as sns\n",
    "\n",
    "# Algorithm \n",
    "\n",
    "from sklearn.svm import SVC, LinearSVC"
   ]
  },
  {
   "cell_type": "code",
   "execution_count": 2,
   "id": "56ad38e3",
   "metadata": {},
   "outputs": [
    {
     "name": "stdout",
     "output_type": "stream",
     "text": [
      "   id  age    bp     sg   al   su     rbc        pc         pcc          ba  \\\n",
      "0   0   48  80.0  1.020  1.0  0.0     NaN    normal  notpresent  notpresent   \n",
      "1   1    7  50.0  1.020  4.0  0.0     NaN    normal  notpresent  notpresent   \n",
      "2   2   62  80.0  1.010  2.0  3.0  normal    normal  notpresent  notpresent   \n",
      "3   3   48  70.0  1.005  4.0  0.0  normal  abnormal     present  notpresent   \n",
      "4   4   51  80.0  1.010  2.0  0.0  normal    normal  notpresent  notpresent   \n",
      "\n",
      "   ...   rc  htn   dm  cad  appet   pe  ane classification        eGFR stages  \n",
      "0  ...  5.2  yes  yes   no   good   no   no            ckd   62.001841      2  \n",
      "1  ...  NaN   no   no   no   good   no   no            ckd  146.335929      1  \n",
      "2  ...  NaN   no  yes   no   poor   no  yes            ckd   36.866485      3  \n",
      "3  ...  3.9  yes   no   no   poor  yes  yes            ckd   16.394927      4  \n",
      "4  ...  4.6   no   no   no   good   no   no            ckd   51.262906      3  \n",
      "\n",
      "[5 rows x 28 columns]\n"
     ]
    }
   ],
   "source": [
    "import io\n",
    "kidney_data = pd.read_csv('dataset.csv')\n",
    "print(kidney_data.head())"
   ]
  },
  {
   "cell_type": "code",
   "execution_count": 3,
   "id": "2712d197",
   "metadata": {},
   "outputs": [
    {
     "data": {
      "text/plain": [
       "Index(['id', 'age', 'bp', 'sg', 'al', 'su', 'rbc', 'pc', 'pcc', 'ba', 'bgr',\n",
       "       'bu', 'sc', 'sod', 'pot', 'hemo', 'pcv', 'wc', 'rc', 'htn', 'dm', 'cad',\n",
       "       'appet', 'pe', 'ane', 'classification', 'eGFR', 'stages'],\n",
       "      dtype='object')"
      ]
     },
     "execution_count": 3,
     "metadata": {},
     "output_type": "execute_result"
    }
   ],
   "source": [
    "kidney_data.columns"
   ]
  },
  {
   "cell_type": "code",
   "execution_count": 4,
   "id": "044d1b22",
   "metadata": {},
   "outputs": [],
   "source": [
    "kidney_data.drop(['id','classification','eGFR'],axis=1,inplace=True)"
   ]
  },
  {
   "cell_type": "code",
   "execution_count": 5,
   "id": "d1c2ba0f",
   "metadata": {},
   "outputs": [
    {
     "data": {
      "text/plain": [
       "Index(['age', 'bp', 'sg', 'al', 'su', 'rbc', 'pc', 'pcc', 'ba', 'bgr', 'bu',\n",
       "       'sc', 'sod', 'pot', 'hemo', 'pcv', 'wc', 'rc', 'htn', 'dm', 'cad',\n",
       "       'appet', 'pe', 'ane', 'stages'],\n",
       "      dtype='object')"
      ]
     },
     "execution_count": 5,
     "metadata": {},
     "output_type": "execute_result"
    }
   ],
   "source": [
    "kidney_data.columns"
   ]
  },
  {
   "cell_type": "code",
   "execution_count": 6,
   "id": "a4496fb0",
   "metadata": {},
   "outputs": [],
   "source": [
    "# Understanding the Attributes"
   ]
  },
  {
   "cell_type": "code",
   "execution_count": 7,
   "id": "8dd0e997",
   "metadata": {},
   "outputs": [
    {
     "data": {
      "text/plain": [
       "'Understanding the Attributes\\nage - age of patient\\nbp - blood pressure level of patient\\nsg - Specific gravity is the ratio of the density of the substance to the density of a reference substance.\\nal - Albumin ( It is a type of protein the liver makes. It\\'s one of the most abundant proteins in the blood. We need a proper balance of albumin to keep fluid from leaking out of blood vessels.)\\nsu - Sugar level in the blood\\nrbc - It refers to Red blood cells in the blood.\\npc - Pus is the result of the body\\'s natural immune system automatically responding to an infection, usually caused by bacteria or fungi.\\npcc - Pyuria is a condition that occurs when excess white blood cells, or pus, are present in the urine.Parasites, kidney stones, tumors and cysts, and interstitial cystitis can also lead to pyuria.\\nba - Bacteria\\nbgr - The reference values for a \"normal\" random glucose test in an average adult are 79–140mg/dl (4.4–7.8 mmol/l), between 140-200mg/dl (7.8–11.1 mmol/l) is considered pre-diabetes, and ≥ 200 mg/dl is considered diabetes according to ADA guidelines\\nbu - Nitrogen in the blood that comes from urea (a substance formed by the breakdown of protein in the liver). The kidneys filter urea out of the blood and into the urine. A high level of urea nitrogen in the blood may be a sign of a kidney problem.\\nsc - Serum Creatinine ( Creatinine is a breakdown product of creatinine phosphate in muscle, and is usually produced ata)\\nsod - Sodium (sod in mEq/L)\\npot - Potassium (pot in mEq/L)\\nhemo - Hemoglobin (hemo in gms)\\npcv - Packed Cell Volume\\nwc - White Blood Cell Count (wc in cells/cumm)\\nrc - Red Blood Cell Count(rc in millions/cumm)\\nhtn - Hypertension (It is also known as high blood pressure(HBP) is a long-term medical condition in which the blood pressure in the arteries is persistently elevated.)\\ndm - Diabetes Mellitus(A disease in which the body’s ability to produce or respond to the hormone insulin is impaired, resulting in abnormal metabolism of carbohydrates and elevated levels of glucose in the blood.)\\ncad - Coronary Artery Disease (It happens when the arteries that supply blood to heart muscle become hardened and narrowed.)\\nappet - Appetite (A natural desire to satisfy a bodily need, especially for food)\\npe - Pedal Edema( It is the accumulation of fluid in the feet and lower legs. )\\nane - Anemia (A condition in which there is a deficiency of red cells or of haemoglobin in the blood, resulting in pallor and weariness.)\\nclassification- It classifies whether a person is suffering from chronic kidney disease or not.\\n\\n'"
      ]
     },
     "execution_count": 7,
     "metadata": {},
     "output_type": "execute_result"
    }
   ],
   "source": [
    "'''Understanding the Attributes\n",
    "age - age of patient\n",
    "bp - blood pressure level of patient\n",
    "sg - Specific gravity is the ratio of the density of the substance to the density of a reference substance.\n",
    "al - Albumin ( It is a type of protein the liver makes. It's one of the most abundant proteins in the blood. We need a proper balance of albumin to keep fluid from leaking out of blood vessels.)\n",
    "su - Sugar level in the blood\n",
    "rbc - It refers to Red blood cells in the blood.\n",
    "pc - Pus is the result of the body's natural immune system automatically responding to an infection, usually caused by bacteria or fungi.\n",
    "pcc - Pyuria is a condition that occurs when excess white blood cells, or pus, are present in the urine.Parasites, kidney stones, tumors and cysts, and interstitial cystitis can also lead to pyuria.\n",
    "ba - Bacteria\n",
    "bgr - The reference values for a \"normal\" random glucose test in an average adult are 79–140mg/dl (4.4–7.8 mmol/l), between 140-200mg/dl (7.8–11.1 mmol/l) is considered pre-diabetes, and ≥ 200 mg/dl is considered diabetes according to ADA guidelines\n",
    "bu - Nitrogen in the blood that comes from urea (a substance formed by the breakdown of protein in the liver). The kidneys filter urea out of the blood and into the urine. A high level of urea nitrogen in the blood may be a sign of a kidney problem.\n",
    "sc - Serum Creatinine ( Creatinine is a breakdown product of creatinine phosphate in muscle, and is usually produced ata)\n",
    "sod - Sodium (sod in mEq/L)\n",
    "pot - Potassium (pot in mEq/L)\n",
    "hemo - Hemoglobin (hemo in gms)\n",
    "pcv - Packed Cell Volume\n",
    "wc - White Blood Cell Count (wc in cells/cumm)\n",
    "rc - Red Blood Cell Count(rc in millions/cumm)\n",
    "htn - Hypertension (It is also known as high blood pressure(HBP) is a long-term medical condition in which the blood pressure in the arteries is persistently elevated.)\n",
    "dm - Diabetes Mellitus(A disease in which the body’s ability to produce or respond to the hormone insulin is impaired, resulting in abnormal metabolism of carbohydrates and elevated levels of glucose in the blood.)\n",
    "cad - Coronary Artery Disease (It happens when the arteries that supply blood to heart muscle become hardened and narrowed.)\n",
    "appet - Appetite (A natural desire to satisfy a bodily need, especially for food)\n",
    "pe - Pedal Edema( It is the accumulation of fluid in the feet and lower legs. )\n",
    "ane - Anemia (A condition in which there is a deficiency of red cells or of haemoglobin in the blood, resulting in pallor and weariness.)\n",
    "classification- It classifies whether a person is suffering from chronic kidney disease or not.\n",
    "\n",
    "'''"
   ]
  },
  {
   "cell_type": "code",
   "execution_count": 8,
   "id": "a8ff7f01",
   "metadata": {},
   "outputs": [
    {
     "name": "stdout",
     "output_type": "stream",
     "text": [
      "<class 'pandas.core.frame.DataFrame'>\n",
      "RangeIndex: 400 entries, 0 to 399\n",
      "Data columns (total 25 columns):\n",
      " #   Column  Non-Null Count  Dtype  \n",
      "---  ------  --------------  -----  \n",
      " 0   age     400 non-null    int64  \n",
      " 1   bp      388 non-null    float64\n",
      " 2   sg      353 non-null    float64\n",
      " 3   al      354 non-null    float64\n",
      " 4   su      351 non-null    float64\n",
      " 5   rbc     248 non-null    object \n",
      " 6   pc      335 non-null    object \n",
      " 7   pcc     396 non-null    object \n",
      " 8   ba      396 non-null    object \n",
      " 9   bgr     356 non-null    float64\n",
      " 10  bu      381 non-null    float64\n",
      " 11  sc      400 non-null    float64\n",
      " 12  sod     313 non-null    float64\n",
      " 13  pot     312 non-null    float64\n",
      " 14  hemo    348 non-null    float64\n",
      " 15  pcv     330 non-null    object \n",
      " 16  wc      295 non-null    object \n",
      " 17  rc      270 non-null    object \n",
      " 18  htn     398 non-null    object \n",
      " 19  dm      398 non-null    object \n",
      " 20  cad     398 non-null    object \n",
      " 21  appet   399 non-null    object \n",
      " 22  pe      399 non-null    object \n",
      " 23  ane     399 non-null    object \n",
      " 24  stages  400 non-null    int64  \n",
      "dtypes: float64(10), int64(2), object(13)\n",
      "memory usage: 78.2+ KB\n"
     ]
    }
   ],
   "source": [
    "#Data Types of the data\n",
    "\n",
    "kidney_data.info()"
   ]
  },
  {
   "cell_type": "code",
   "execution_count": 9,
   "id": "729f3bf4",
   "metadata": {},
   "outputs": [],
   "source": [
    "# Categorical and Numerical Variables\n",
    "# Categorical variable : rbc, pc, pcc, ba, pcv, wc, rc, htn, dm, cad, appet, pe, ane and classification\n",
    "# Numerical variable : age, bp , sg, al, su, bgr, bu, sc, sod, pot and hemo."
   ]
  },
  {
   "cell_type": "code",
   "execution_count": 10,
   "id": "006953de",
   "metadata": {},
   "outputs": [
    {
     "data": {
      "text/html": [
       "<div>\n",
       "<style scoped>\n",
       "    .dataframe tbody tr th:only-of-type {\n",
       "        vertical-align: middle;\n",
       "    }\n",
       "\n",
       "    .dataframe tbody tr th {\n",
       "        vertical-align: top;\n",
       "    }\n",
       "\n",
       "    .dataframe thead th {\n",
       "        text-align: right;\n",
       "    }\n",
       "</style>\n",
       "<table border=\"1\" class=\"dataframe\">\n",
       "  <thead>\n",
       "    <tr style=\"text-align: right;\">\n",
       "      <th></th>\n",
       "      <th>age</th>\n",
       "      <th>bp</th>\n",
       "      <th>sg</th>\n",
       "      <th>al</th>\n",
       "      <th>su</th>\n",
       "      <th>bgr</th>\n",
       "      <th>bu</th>\n",
       "      <th>sc</th>\n",
       "      <th>sod</th>\n",
       "      <th>pot</th>\n",
       "      <th>hemo</th>\n",
       "      <th>stages</th>\n",
       "    </tr>\n",
       "  </thead>\n",
       "  <tbody>\n",
       "    <tr>\n",
       "      <th>count</th>\n",
       "      <td>400.000000</td>\n",
       "      <td>388.000000</td>\n",
       "      <td>353.000000</td>\n",
       "      <td>354.000000</td>\n",
       "      <td>351.000000</td>\n",
       "      <td>356.000000</td>\n",
       "      <td>381.000000</td>\n",
       "      <td>400.000000</td>\n",
       "      <td>313.000000</td>\n",
       "      <td>312.000000</td>\n",
       "      <td>348.000000</td>\n",
       "      <td>400.000000</td>\n",
       "    </tr>\n",
       "    <tr>\n",
       "      <th>mean</th>\n",
       "      <td>51.562500</td>\n",
       "      <td>76.469072</td>\n",
       "      <td>1.017408</td>\n",
       "      <td>1.016949</td>\n",
       "      <td>0.450142</td>\n",
       "      <td>148.036517</td>\n",
       "      <td>57.425722</td>\n",
       "      <td>2.997125</td>\n",
       "      <td>137.528754</td>\n",
       "      <td>4.627244</td>\n",
       "      <td>12.526437</td>\n",
       "      <td>2.777500</td>\n",
       "    </tr>\n",
       "    <tr>\n",
       "      <th>std</th>\n",
       "      <td>16.982996</td>\n",
       "      <td>13.683637</td>\n",
       "      <td>0.005717</td>\n",
       "      <td>1.352679</td>\n",
       "      <td>1.099191</td>\n",
       "      <td>79.281714</td>\n",
       "      <td>50.503006</td>\n",
       "      <td>5.628886</td>\n",
       "      <td>10.408752</td>\n",
       "      <td>3.193904</td>\n",
       "      <td>2.912587</td>\n",
       "      <td>1.386651</td>\n",
       "    </tr>\n",
       "    <tr>\n",
       "      <th>min</th>\n",
       "      <td>2.000000</td>\n",
       "      <td>50.000000</td>\n",
       "      <td>1.005000</td>\n",
       "      <td>0.000000</td>\n",
       "      <td>0.000000</td>\n",
       "      <td>22.000000</td>\n",
       "      <td>1.500000</td>\n",
       "      <td>0.400000</td>\n",
       "      <td>4.500000</td>\n",
       "      <td>2.500000</td>\n",
       "      <td>3.100000</td>\n",
       "      <td>1.000000</td>\n",
       "    </tr>\n",
       "    <tr>\n",
       "      <th>25%</th>\n",
       "      <td>42.000000</td>\n",
       "      <td>70.000000</td>\n",
       "      <td>1.010000</td>\n",
       "      <td>0.000000</td>\n",
       "      <td>0.000000</td>\n",
       "      <td>99.000000</td>\n",
       "      <td>27.000000</td>\n",
       "      <td>0.900000</td>\n",
       "      <td>135.000000</td>\n",
       "      <td>3.800000</td>\n",
       "      <td>10.300000</td>\n",
       "      <td>2.000000</td>\n",
       "    </tr>\n",
       "    <tr>\n",
       "      <th>50%</th>\n",
       "      <td>55.000000</td>\n",
       "      <td>80.000000</td>\n",
       "      <td>1.020000</td>\n",
       "      <td>0.000000</td>\n",
       "      <td>0.000000</td>\n",
       "      <td>121.000000</td>\n",
       "      <td>42.000000</td>\n",
       "      <td>1.300000</td>\n",
       "      <td>138.000000</td>\n",
       "      <td>4.400000</td>\n",
       "      <td>12.650000</td>\n",
       "      <td>3.000000</td>\n",
       "    </tr>\n",
       "    <tr>\n",
       "      <th>75%</th>\n",
       "      <td>64.000000</td>\n",
       "      <td>80.000000</td>\n",
       "      <td>1.020000</td>\n",
       "      <td>2.000000</td>\n",
       "      <td>0.000000</td>\n",
       "      <td>163.000000</td>\n",
       "      <td>66.000000</td>\n",
       "      <td>2.725000</td>\n",
       "      <td>142.000000</td>\n",
       "      <td>4.900000</td>\n",
       "      <td>15.000000</td>\n",
       "      <td>4.000000</td>\n",
       "    </tr>\n",
       "    <tr>\n",
       "      <th>max</th>\n",
       "      <td>90.000000</td>\n",
       "      <td>180.000000</td>\n",
       "      <td>1.025000</td>\n",
       "      <td>5.000000</td>\n",
       "      <td>5.000000</td>\n",
       "      <td>490.000000</td>\n",
       "      <td>391.000000</td>\n",
       "      <td>76.000000</td>\n",
       "      <td>163.000000</td>\n",
       "      <td>47.000000</td>\n",
       "      <td>17.800000</td>\n",
       "      <td>5.000000</td>\n",
       "    </tr>\n",
       "  </tbody>\n",
       "</table>\n",
       "</div>"
      ],
      "text/plain": [
       "              age          bp          sg          al          su         bgr  \\\n",
       "count  400.000000  388.000000  353.000000  354.000000  351.000000  356.000000   \n",
       "mean    51.562500   76.469072    1.017408    1.016949    0.450142  148.036517   \n",
       "std     16.982996   13.683637    0.005717    1.352679    1.099191   79.281714   \n",
       "min      2.000000   50.000000    1.005000    0.000000    0.000000   22.000000   \n",
       "25%     42.000000   70.000000    1.010000    0.000000    0.000000   99.000000   \n",
       "50%     55.000000   80.000000    1.020000    0.000000    0.000000  121.000000   \n",
       "75%     64.000000   80.000000    1.020000    2.000000    0.000000  163.000000   \n",
       "max     90.000000  180.000000    1.025000    5.000000    5.000000  490.000000   \n",
       "\n",
       "               bu          sc         sod         pot        hemo      stages  \n",
       "count  381.000000  400.000000  313.000000  312.000000  348.000000  400.000000  \n",
       "mean    57.425722    2.997125  137.528754    4.627244   12.526437    2.777500  \n",
       "std     50.503006    5.628886   10.408752    3.193904    2.912587    1.386651  \n",
       "min      1.500000    0.400000    4.500000    2.500000    3.100000    1.000000  \n",
       "25%     27.000000    0.900000  135.000000    3.800000   10.300000    2.000000  \n",
       "50%     42.000000    1.300000  138.000000    4.400000   12.650000    3.000000  \n",
       "75%     66.000000    2.725000  142.000000    4.900000   15.000000    4.000000  \n",
       "max    391.000000   76.000000  163.000000   47.000000   17.800000    5.000000  "
      ]
     },
     "execution_count": 10,
     "metadata": {},
     "output_type": "execute_result"
    }
   ],
   "source": [
    "kidney_data.describe()"
   ]
  },
  {
   "cell_type": "code",
   "execution_count": 11,
   "id": "5be5005d",
   "metadata": {},
   "outputs": [
    {
     "data": {
      "text/plain": [
       "age         0\n",
       "bp         12\n",
       "sg         47\n",
       "al         46\n",
       "su         49\n",
       "rbc       152\n",
       "pc         65\n",
       "pcc         4\n",
       "ba          4\n",
       "bgr        44\n",
       "bu         19\n",
       "sc          0\n",
       "sod        87\n",
       "pot        88\n",
       "hemo       52\n",
       "pcv        70\n",
       "wc        105\n",
       "rc        130\n",
       "htn         2\n",
       "dm          2\n",
       "cad         2\n",
       "appet       1\n",
       "pe          1\n",
       "ane         1\n",
       "stages      0\n",
       "dtype: int64"
      ]
     },
     "execution_count": 11,
     "metadata": {},
     "output_type": "execute_result"
    }
   ],
   "source": [
    "# Count of null values\n",
    "kidney_data.isnull().sum()"
   ]
  },
  {
   "cell_type": "code",
   "execution_count": 12,
   "id": "4dede405",
   "metadata": {},
   "outputs": [],
   "source": [
    "# Extracting null cols\n",
    "null_cols = kidney_data.columns[kidney_data.isnull().any()]\n"
   ]
  },
  {
   "cell_type": "code",
   "execution_count": 13,
   "id": "8500470c",
   "metadata": {},
   "outputs": [
    {
     "data": {
      "text/plain": [
       "Index(['bp', 'sg', 'al', 'su', 'rbc', 'pc', 'pcc', 'ba', 'bgr', 'bu', 'sod',\n",
       "       'pot', 'hemo', 'pcv', 'wc', 'rc', 'htn', 'dm', 'cad', 'appet', 'pe',\n",
       "       'ane'],\n",
       "      dtype='object')"
      ]
     },
     "execution_count": 13,
     "metadata": {},
     "output_type": "execute_result"
    }
   ],
   "source": [
    "null_cols"
   ]
  },
  {
   "cell_type": "code",
   "execution_count": 14,
   "id": "560245c5",
   "metadata": {},
   "outputs": [],
   "source": [
    "# Replacing columns having null values using pad\n",
    "for i in null_cols:\n",
    "    kidney_data[i].fillna(method = 'pad',inplace = True)\n",
    "    kidney_data[i].fillna(method = 'bfill',inplace = True)"
   ]
  },
  {
   "cell_type": "code",
   "execution_count": 15,
   "id": "5eec9fde",
   "metadata": {},
   "outputs": [
    {
     "data": {
      "text/plain": [
       "0"
      ]
     },
     "execution_count": 15,
     "metadata": {},
     "output_type": "execute_result"
    }
   ],
   "source": [
    "kidney_data.isna().sum().sum()"
   ]
  },
  {
   "cell_type": "code",
   "execution_count": 16,
   "id": "b9d60d17",
   "metadata": {},
   "outputs": [
    {
     "name": "stdout",
     "output_type": "stream",
     "text": [
      "<class 'pandas.core.frame.DataFrame'>\n",
      "RangeIndex: 400 entries, 0 to 399\n",
      "Data columns (total 25 columns):\n",
      " #   Column  Non-Null Count  Dtype  \n",
      "---  ------  --------------  -----  \n",
      " 0   age     400 non-null    int64  \n",
      " 1   bp      400 non-null    float64\n",
      " 2   sg      400 non-null    float64\n",
      " 3   al      400 non-null    float64\n",
      " 4   su      400 non-null    float64\n",
      " 5   rbc     400 non-null    object \n",
      " 6   pc      400 non-null    object \n",
      " 7   pcc     400 non-null    object \n",
      " 8   ba      400 non-null    object \n",
      " 9   bgr     400 non-null    float64\n",
      " 10  bu      400 non-null    float64\n",
      " 11  sc      400 non-null    float64\n",
      " 12  sod     400 non-null    float64\n",
      " 13  pot     400 non-null    float64\n",
      " 14  hemo    400 non-null    float64\n",
      " 15  pcv     400 non-null    object \n",
      " 16  wc      400 non-null    object \n",
      " 17  rc      400 non-null    object \n",
      " 18  htn     400 non-null    object \n",
      " 19  dm      400 non-null    object \n",
      " 20  cad     400 non-null    object \n",
      " 21  appet   400 non-null    object \n",
      " 22  pe      400 non-null    object \n",
      " 23  ane     400 non-null    object \n",
      " 24  stages  400 non-null    int64  \n",
      "dtypes: float64(10), int64(2), object(13)\n",
      "memory usage: 78.2+ KB\n"
     ]
    }
   ],
   "source": [
    "kidney_data.info()"
   ]
  },
  {
   "cell_type": "code",
   "execution_count": 17,
   "id": "2d7435b2",
   "metadata": {},
   "outputs": [],
   "source": [
    "categorical_columns = ['rbc','pc','pcc','ba','pcv','wc','rc','htn','dm','cad','appet','pe','ane']"
   ]
  },
  {
   "cell_type": "code",
   "execution_count": 18,
   "id": "ddb16ccd",
   "metadata": {},
   "outputs": [],
   "source": [
    "# Encoding Categorical Features\n",
    "\n",
    "from sklearn.preprocessing import LabelEncoder\n",
    "\n",
    "le = LabelEncoder()\n",
    "for i in categorical_columns:\n",
    "    kidney_data[i] = le.fit_transform(kidney_data[i])"
   ]
  },
  {
   "cell_type": "code",
   "execution_count": 19,
   "id": "77b768c8",
   "metadata": {},
   "outputs": [
    {
     "name": "stdout",
     "output_type": "stream",
     "text": [
      "<class 'pandas.core.frame.DataFrame'>\n",
      "RangeIndex: 400 entries, 0 to 399\n",
      "Data columns (total 25 columns):\n",
      " #   Column  Non-Null Count  Dtype  \n",
      "---  ------  --------------  -----  \n",
      " 0   age     400 non-null    int64  \n",
      " 1   bp      400 non-null    float64\n",
      " 2   sg      400 non-null    float64\n",
      " 3   al      400 non-null    float64\n",
      " 4   su      400 non-null    float64\n",
      " 5   rbc     400 non-null    int32  \n",
      " 6   pc      400 non-null    int32  \n",
      " 7   pcc     400 non-null    int32  \n",
      " 8   ba      400 non-null    int32  \n",
      " 9   bgr     400 non-null    float64\n",
      " 10  bu      400 non-null    float64\n",
      " 11  sc      400 non-null    float64\n",
      " 12  sod     400 non-null    float64\n",
      " 13  pot     400 non-null    float64\n",
      " 14  hemo    400 non-null    float64\n",
      " 15  pcv     400 non-null    int32  \n",
      " 16  wc      400 non-null    int32  \n",
      " 17  rc      400 non-null    int32  \n",
      " 18  htn     400 non-null    int32  \n",
      " 19  dm      400 non-null    int32  \n",
      " 20  cad     400 non-null    int32  \n",
      " 21  appet   400 non-null    int32  \n",
      " 22  pe      400 non-null    int32  \n",
      " 23  ane     400 non-null    int32  \n",
      " 24  stages  400 non-null    int64  \n",
      "dtypes: float64(10), int32(13), int64(2)\n",
      "memory usage: 57.9 KB\n"
     ]
    }
   ],
   "source": [
    "kidney_data.info()"
   ]
  },
  {
   "cell_type": "code",
   "execution_count": 20,
   "id": "6648ecbf",
   "metadata": {},
   "outputs": [
    {
     "data": {
      "text/plain": [
       "Index(['age', 'bp', 'sg', 'al', 'su', 'rbc', 'pc', 'pcc', 'ba', 'bgr', 'bu',\n",
       "       'sc', 'sod', 'pot', 'hemo', 'pcv', 'wc', 'rc', 'htn', 'dm', 'cad',\n",
       "       'appet', 'pe', 'ane', 'stages'],\n",
       "      dtype='object')"
      ]
     },
     "execution_count": 20,
     "metadata": {},
     "output_type": "execute_result"
    }
   ],
   "source": [
    "#Normalizing features\n",
    "kidney_data.columns"
   ]
  },
  {
   "cell_type": "code",
   "execution_count": 21,
   "id": "85c20394",
   "metadata": {},
   "outputs": [
    {
     "data": {
      "text/html": [
       "<div>\n",
       "<style scoped>\n",
       "    .dataframe tbody tr th:only-of-type {\n",
       "        vertical-align: middle;\n",
       "    }\n",
       "\n",
       "    .dataframe tbody tr th {\n",
       "        vertical-align: top;\n",
       "    }\n",
       "\n",
       "    .dataframe thead th {\n",
       "        text-align: right;\n",
       "    }\n",
       "</style>\n",
       "<table border=\"1\" class=\"dataframe\">\n",
       "  <thead>\n",
       "    <tr style=\"text-align: right;\">\n",
       "      <th></th>\n",
       "      <th>age</th>\n",
       "      <th>bp</th>\n",
       "      <th>sg</th>\n",
       "      <th>al</th>\n",
       "      <th>su</th>\n",
       "      <th>rbc</th>\n",
       "      <th>pc</th>\n",
       "      <th>pcc</th>\n",
       "      <th>ba</th>\n",
       "      <th>bgr</th>\n",
       "      <th>...</th>\n",
       "      <th>pcv</th>\n",
       "      <th>wc</th>\n",
       "      <th>rc</th>\n",
       "      <th>htn</th>\n",
       "      <th>dm</th>\n",
       "      <th>cad</th>\n",
       "      <th>appet</th>\n",
       "      <th>pe</th>\n",
       "      <th>ane</th>\n",
       "      <th>stages</th>\n",
       "    </tr>\n",
       "  </thead>\n",
       "  <tbody>\n",
       "    <tr>\n",
       "      <th>0</th>\n",
       "      <td>48</td>\n",
       "      <td>80.0</td>\n",
       "      <td>1.020</td>\n",
       "      <td>1.0</td>\n",
       "      <td>0.0</td>\n",
       "      <td>1</td>\n",
       "      <td>1</td>\n",
       "      <td>0</td>\n",
       "      <td>0</td>\n",
       "      <td>121.0</td>\n",
       "      <td>...</td>\n",
       "      <td>32</td>\n",
       "      <td>72</td>\n",
       "      <td>31</td>\n",
       "      <td>1</td>\n",
       "      <td>4</td>\n",
       "      <td>1</td>\n",
       "      <td>0</td>\n",
       "      <td>0</td>\n",
       "      <td>0</td>\n",
       "      <td>2</td>\n",
       "    </tr>\n",
       "    <tr>\n",
       "      <th>1</th>\n",
       "      <td>7</td>\n",
       "      <td>50.0</td>\n",
       "      <td>1.020</td>\n",
       "      <td>4.0</td>\n",
       "      <td>0.0</td>\n",
       "      <td>1</td>\n",
       "      <td>1</td>\n",
       "      <td>0</td>\n",
       "      <td>0</td>\n",
       "      <td>121.0</td>\n",
       "      <td>...</td>\n",
       "      <td>26</td>\n",
       "      <td>56</td>\n",
       "      <td>31</td>\n",
       "      <td>0</td>\n",
       "      <td>3</td>\n",
       "      <td>1</td>\n",
       "      <td>0</td>\n",
       "      <td>0</td>\n",
       "      <td>0</td>\n",
       "      <td>1</td>\n",
       "    </tr>\n",
       "    <tr>\n",
       "      <th>2</th>\n",
       "      <td>62</td>\n",
       "      <td>80.0</td>\n",
       "      <td>1.010</td>\n",
       "      <td>2.0</td>\n",
       "      <td>3.0</td>\n",
       "      <td>1</td>\n",
       "      <td>1</td>\n",
       "      <td>0</td>\n",
       "      <td>0</td>\n",
       "      <td>423.0</td>\n",
       "      <td>...</td>\n",
       "      <td>19</td>\n",
       "      <td>70</td>\n",
       "      <td>31</td>\n",
       "      <td>0</td>\n",
       "      <td>4</td>\n",
       "      <td>1</td>\n",
       "      <td>1</td>\n",
       "      <td>0</td>\n",
       "      <td>1</td>\n",
       "      <td>3</td>\n",
       "    </tr>\n",
       "    <tr>\n",
       "      <th>3</th>\n",
       "      <td>48</td>\n",
       "      <td>70.0</td>\n",
       "      <td>1.005</td>\n",
       "      <td>4.0</td>\n",
       "      <td>0.0</td>\n",
       "      <td>1</td>\n",
       "      <td>0</td>\n",
       "      <td>1</td>\n",
       "      <td>0</td>\n",
       "      <td>117.0</td>\n",
       "      <td>...</td>\n",
       "      <td>20</td>\n",
       "      <td>62</td>\n",
       "      <td>18</td>\n",
       "      <td>1</td>\n",
       "      <td>3</td>\n",
       "      <td>1</td>\n",
       "      <td>1</td>\n",
       "      <td>1</td>\n",
       "      <td>1</td>\n",
       "      <td>4</td>\n",
       "    </tr>\n",
       "    <tr>\n",
       "      <th>4</th>\n",
       "      <td>51</td>\n",
       "      <td>80.0</td>\n",
       "      <td>1.010</td>\n",
       "      <td>2.0</td>\n",
       "      <td>0.0</td>\n",
       "      <td>1</td>\n",
       "      <td>1</td>\n",
       "      <td>0</td>\n",
       "      <td>0</td>\n",
       "      <td>106.0</td>\n",
       "      <td>...</td>\n",
       "      <td>23</td>\n",
       "      <td>68</td>\n",
       "      <td>25</td>\n",
       "      <td>0</td>\n",
       "      <td>3</td>\n",
       "      <td>1</td>\n",
       "      <td>0</td>\n",
       "      <td>0</td>\n",
       "      <td>0</td>\n",
       "      <td>3</td>\n",
       "    </tr>\n",
       "  </tbody>\n",
       "</table>\n",
       "<p>5 rows × 25 columns</p>\n",
       "</div>"
      ],
      "text/plain": [
       "   age    bp     sg   al   su  rbc  pc  pcc  ba    bgr  ...  pcv  wc  rc  htn  \\\n",
       "0   48  80.0  1.020  1.0  0.0    1   1    0   0  121.0  ...   32  72  31    1   \n",
       "1    7  50.0  1.020  4.0  0.0    1   1    0   0  121.0  ...   26  56  31    0   \n",
       "2   62  80.0  1.010  2.0  3.0    1   1    0   0  423.0  ...   19  70  31    0   \n",
       "3   48  70.0  1.005  4.0  0.0    1   0    1   0  117.0  ...   20  62  18    1   \n",
       "4   51  80.0  1.010  2.0  0.0    1   1    0   0  106.0  ...   23  68  25    0   \n",
       "\n",
       "   dm  cad  appet  pe  ane  stages  \n",
       "0   4    1      0   0    0       2  \n",
       "1   3    1      0   0    0       1  \n",
       "2   4    1      1   0    1       3  \n",
       "3   3    1      1   1    1       4  \n",
       "4   3    1      0   0    0       3  \n",
       "\n",
       "[5 rows x 25 columns]"
      ]
     },
     "execution_count": 21,
     "metadata": {},
     "output_type": "execute_result"
    }
   ],
   "source": [
    "kidney_data.head(\n",
    ")"
   ]
  },
  {
   "cell_type": "code",
   "execution_count": 22,
   "id": "892ac89b",
   "metadata": {},
   "outputs": [],
   "source": [
    "#kidney_data.to_csv('newdataset.csv')"
   ]
  },
  {
   "cell_type": "code",
   "execution_count": 23,
   "id": "4a6888ef",
   "metadata": {},
   "outputs": [],
   "source": [
    "from sklearn.preprocessing import StandardScaler\n",
    "\n",
    "normalizer = StandardScaler()\n",
    "# for i in kidney_data.columns:\n",
    "#     kidney_data[i] = pd.DataFrame(i:fit_transform(kidney_data[i]))\n",
    "col = ['age', 'bp', 'sg', 'al', 'su', 'rbc', 'pc', 'pcc', 'ba', 'bgr', 'bu',\n",
    "       'sc', 'sod', 'pot', 'hemo', 'pcv', 'wc', 'rc', 'htn', 'dm', 'cad',\n",
    "       'appet', 'pe', 'ane']\n",
    "\n",
    "kidney_data[col] = normalizer.fit_transform(kidney_data[col].values)"
   ]
  },
  {
   "cell_type": "code",
   "execution_count": 24,
   "id": "31b13c88",
   "metadata": {},
   "outputs": [
    {
     "data": {
      "text/html": [
       "<div>\n",
       "<style scoped>\n",
       "    .dataframe tbody tr th:only-of-type {\n",
       "        vertical-align: middle;\n",
       "    }\n",
       "\n",
       "    .dataframe tbody tr th {\n",
       "        vertical-align: top;\n",
       "    }\n",
       "\n",
       "    .dataframe thead th {\n",
       "        text-align: right;\n",
       "    }\n",
       "</style>\n",
       "<table border=\"1\" class=\"dataframe\">\n",
       "  <thead>\n",
       "    <tr style=\"text-align: right;\">\n",
       "      <th></th>\n",
       "      <th>age</th>\n",
       "      <th>bp</th>\n",
       "      <th>sg</th>\n",
       "      <th>al</th>\n",
       "      <th>su</th>\n",
       "      <th>rbc</th>\n",
       "      <th>pc</th>\n",
       "      <th>pcc</th>\n",
       "      <th>ba</th>\n",
       "      <th>bgr</th>\n",
       "      <th>...</th>\n",
       "      <th>pcv</th>\n",
       "      <th>wc</th>\n",
       "      <th>rc</th>\n",
       "      <th>htn</th>\n",
       "      <th>dm</th>\n",
       "      <th>cad</th>\n",
       "      <th>appet</th>\n",
       "      <th>pe</th>\n",
       "      <th>ane</th>\n",
       "      <th>stages</th>\n",
       "    </tr>\n",
       "  </thead>\n",
       "  <tbody>\n",
       "    <tr>\n",
       "      <th>0</th>\n",
       "      <td>-0.210031</td>\n",
       "      <td>0.278140</td>\n",
       "      <td>0.489013</td>\n",
       "      <td>-0.042868</td>\n",
       "      <td>-0.415581</td>\n",
       "      <td>0.612022</td>\n",
       "      <td>0.542677</td>\n",
       "      <td>-0.342518</td>\n",
       "      <td>-0.241249</td>\n",
       "      <td>-0.366277</td>\n",
       "      <td>...</td>\n",
       "      <td>0.691518</td>\n",
       "      <td>0.604252</td>\n",
       "      <td>0.734394</td>\n",
       "      <td>1.311903</td>\n",
       "      <td>1.209416</td>\n",
       "      <td>-0.276686</td>\n",
       "      <td>-0.507801</td>\n",
       "      <td>-0.484322</td>\n",
       "      <td>-0.420084</td>\n",
       "      <td>2</td>\n",
       "    </tr>\n",
       "    <tr>\n",
       "      <th>1</th>\n",
       "      <td>-2.627234</td>\n",
       "      <td>-1.903350</td>\n",
       "      <td>0.489013</td>\n",
       "      <td>2.193701</td>\n",
       "      <td>-0.415581</td>\n",
       "      <td>0.612022</td>\n",
       "      <td>0.542677</td>\n",
       "      <td>-0.342518</td>\n",
       "      <td>-0.241249</td>\n",
       "      <td>-0.366277</td>\n",
       "      <td>...</td>\n",
       "      <td>0.049738</td>\n",
       "      <td>0.000660</td>\n",
       "      <td>0.734394</td>\n",
       "      <td>-0.762252</td>\n",
       "      <td>-0.518321</td>\n",
       "      <td>-0.276686</td>\n",
       "      <td>-0.507801</td>\n",
       "      <td>-0.484322</td>\n",
       "      <td>-0.420084</td>\n",
       "      <td>1</td>\n",
       "    </tr>\n",
       "    <tr>\n",
       "      <th>2</th>\n",
       "      <td>0.615355</td>\n",
       "      <td>0.278140</td>\n",
       "      <td>-1.257462</td>\n",
       "      <td>0.702655</td>\n",
       "      <td>2.354961</td>\n",
       "      <td>0.612022</td>\n",
       "      <td>0.542677</td>\n",
       "      <td>-0.342518</td>\n",
       "      <td>-0.241249</td>\n",
       "      <td>3.486585</td>\n",
       "      <td>...</td>\n",
       "      <td>-0.699005</td>\n",
       "      <td>0.528803</td>\n",
       "      <td>0.734394</td>\n",
       "      <td>-0.762252</td>\n",
       "      <td>1.209416</td>\n",
       "      <td>-0.276686</td>\n",
       "      <td>1.969276</td>\n",
       "      <td>-0.484322</td>\n",
       "      <td>2.380476</td>\n",
       "      <td>3</td>\n",
       "    </tr>\n",
       "    <tr>\n",
       "      <th>3</th>\n",
       "      <td>-0.210031</td>\n",
       "      <td>-0.449023</td>\n",
       "      <td>-2.130700</td>\n",
       "      <td>2.193701</td>\n",
       "      <td>-0.415581</td>\n",
       "      <td>0.612022</td>\n",
       "      <td>-1.842717</td>\n",
       "      <td>2.919556</td>\n",
       "      <td>-0.241249</td>\n",
       "      <td>-0.417308</td>\n",
       "      <td>...</td>\n",
       "      <td>-0.592042</td>\n",
       "      <td>0.227007</td>\n",
       "      <td>-0.562329</td>\n",
       "      <td>1.311903</td>\n",
       "      <td>-0.518321</td>\n",
       "      <td>-0.276686</td>\n",
       "      <td>1.969276</td>\n",
       "      <td>2.064742</td>\n",
       "      <td>2.380476</td>\n",
       "      <td>4</td>\n",
       "    </tr>\n",
       "    <tr>\n",
       "      <th>4</th>\n",
       "      <td>-0.033163</td>\n",
       "      <td>0.278140</td>\n",
       "      <td>-1.257462</td>\n",
       "      <td>0.702655</td>\n",
       "      <td>-0.415581</td>\n",
       "      <td>0.612022</td>\n",
       "      <td>0.542677</td>\n",
       "      <td>-0.342518</td>\n",
       "      <td>-0.241249</td>\n",
       "      <td>-0.557644</td>\n",
       "      <td>...</td>\n",
       "      <td>-0.271152</td>\n",
       "      <td>0.453354</td>\n",
       "      <td>0.135907</td>\n",
       "      <td>-0.762252</td>\n",
       "      <td>-0.518321</td>\n",
       "      <td>-0.276686</td>\n",
       "      <td>-0.507801</td>\n",
       "      <td>-0.484322</td>\n",
       "      <td>-0.420084</td>\n",
       "      <td>3</td>\n",
       "    </tr>\n",
       "  </tbody>\n",
       "</table>\n",
       "<p>5 rows × 25 columns</p>\n",
       "</div>"
      ],
      "text/plain": [
       "        age        bp        sg        al        su       rbc        pc  \\\n",
       "0 -0.210031  0.278140  0.489013 -0.042868 -0.415581  0.612022  0.542677   \n",
       "1 -2.627234 -1.903350  0.489013  2.193701 -0.415581  0.612022  0.542677   \n",
       "2  0.615355  0.278140 -1.257462  0.702655  2.354961  0.612022  0.542677   \n",
       "3 -0.210031 -0.449023 -2.130700  2.193701 -0.415581  0.612022 -1.842717   \n",
       "4 -0.033163  0.278140 -1.257462  0.702655 -0.415581  0.612022  0.542677   \n",
       "\n",
       "        pcc        ba       bgr  ...       pcv        wc        rc       htn  \\\n",
       "0 -0.342518 -0.241249 -0.366277  ...  0.691518  0.604252  0.734394  1.311903   \n",
       "1 -0.342518 -0.241249 -0.366277  ...  0.049738  0.000660  0.734394 -0.762252   \n",
       "2 -0.342518 -0.241249  3.486585  ... -0.699005  0.528803  0.734394 -0.762252   \n",
       "3  2.919556 -0.241249 -0.417308  ... -0.592042  0.227007 -0.562329  1.311903   \n",
       "4 -0.342518 -0.241249 -0.557644  ... -0.271152  0.453354  0.135907 -0.762252   \n",
       "\n",
       "         dm       cad     appet        pe       ane  stages  \n",
       "0  1.209416 -0.276686 -0.507801 -0.484322 -0.420084       2  \n",
       "1 -0.518321 -0.276686 -0.507801 -0.484322 -0.420084       1  \n",
       "2  1.209416 -0.276686  1.969276 -0.484322  2.380476       3  \n",
       "3 -0.518321 -0.276686  1.969276  2.064742  2.380476       4  \n",
       "4 -0.518321 -0.276686 -0.507801 -0.484322 -0.420084       3  \n",
       "\n",
       "[5 rows x 25 columns]"
      ]
     },
     "execution_count": 24,
     "metadata": {},
     "output_type": "execute_result"
    }
   ],
   "source": [
    "kidney_data.head()"
   ]
  },
  {
   "cell_type": "code",
   "execution_count": 25,
   "id": "d6a68cb8",
   "metadata": {},
   "outputs": [
    {
     "data": {
      "text/plain": [
       "Index(['age', 'bp', 'sg', 'al', 'su', 'rbc', 'pc', 'pcc', 'ba', 'bgr', 'bu',\n",
       "       'sc', 'sod', 'pot', 'hemo', 'pcv', 'wc', 'rc', 'htn', 'dm', 'cad',\n",
       "       'appet', 'pe', 'ane', 'stages'],\n",
       "      dtype='object')"
      ]
     },
     "execution_count": 25,
     "metadata": {},
     "output_type": "execute_result"
    }
   ],
   "source": [
    "#Model Building\n",
    "\n",
    "kidney_data.columns"
   ]
  },
  {
   "cell_type": "code",
   "execution_count": 26,
   "id": "8bda798a",
   "metadata": {},
   "outputs": [],
   "source": [
    "x = kidney_data[['age', 'bp', 'sg', 'al', 'su', 'rbc', 'pc', 'pcc', 'ba', 'bgr', 'bu',\n",
    "       'sc', 'sod', 'pot', 'hemo', 'pcv', 'wc', 'rc', 'htn', 'dm', 'cad',\n",
    "       'appet', 'pe', 'ane']]\n",
    "y = kidney_data['stages']"
   ]
  },
  {
   "cell_type": "code",
   "execution_count": 27,
   "id": "fe7c6c24",
   "metadata": {},
   "outputs": [
    {
     "name": "stdout",
     "output_type": "stream",
     "text": [
      "400\n",
      "400\n"
     ]
    }
   ],
   "source": [
    "print(len(x))\n",
    "print(len(y))"
   ]
  },
  {
   "cell_type": "code",
   "execution_count": 28,
   "id": "7de69f7d",
   "metadata": {},
   "outputs": [],
   "source": [
    "# Splitting data\n",
    "from sklearn.model_selection import train_test_split\n",
    "\n",
    "x_train,x_test,y_train,y_test = train_test_split(x,y,test_size = 0.2, random_state = 0)"
   ]
  },
  {
   "cell_type": "code",
   "execution_count": 29,
   "id": "3f77be95",
   "metadata": {},
   "outputs": [
    {
     "name": "stdout",
     "output_type": "stream",
     "text": [
      "320\n",
      "80\n",
      "320\n",
      "80\n"
     ]
    }
   ],
   "source": [
    "print(len(x_train))\n",
    "print(len(x_test))\n",
    "print(len(y_train))\n",
    "print(len(y_test))"
   ]
  },
  {
   "cell_type": "code",
   "execution_count": 30,
   "id": "66e5d173",
   "metadata": {},
   "outputs": [
    {
     "data": {
      "text/plain": [
       "2    93\n",
       "1    93\n",
       "3    90\n",
       "5    66\n",
       "4    58\n",
       "Name: stages, dtype: int64"
      ]
     },
     "execution_count": 30,
     "metadata": {},
     "output_type": "execute_result"
    }
   ],
   "source": [
    "y.value_counts()"
   ]
  },
  {
   "cell_type": "code",
   "execution_count": 31,
   "id": "8523895e",
   "metadata": {},
   "outputs": [],
   "source": [
    "from sklearn.metrics import accuracy_score\n",
    "from sklearn.metrics import confusion_matrix"
   ]
  },
  {
   "cell_type": "code",
   "execution_count": 32,
   "id": "f9fbb27b",
   "metadata": {},
   "outputs": [
    {
     "name": "stdout",
     "output_type": "stream",
     "text": [
      "Accuracy score: 0.6625\n",
      "Confusion Matrix :\n",
      "[[ 8  6  1  0  0]\n",
      " [ 5 12  2  0  0]\n",
      " [ 2  2  8  1  0]\n",
      " [ 0  0  6 10  1]\n",
      " [ 0  1  0  0 15]]\n"
     ]
    }
   ],
   "source": [
    "classifier = SVC(gamma = 0.01,C=100)\n",
    "classifier.fit(x_train,y_train)\n",
    "y_pred = classifier.predict(x_test)\n",
    "print(\"Accuracy score:\",accuracy_score(y_test,y_pred))\n",
    "print(\"Confusion Matrix :\")\n",
    "print(confusion_matrix(y_test,y_pred))"
   ]
  },
  {
   "cell_type": "code",
   "execution_count": 33,
   "id": "04ea8a9b",
   "metadata": {},
   "outputs": [
    {
     "data": {
      "text/plain": [
       "{'C': 100,\n",
       " 'break_ties': False,\n",
       " 'cache_size': 200,\n",
       " 'class_weight': None,\n",
       " 'coef0': 0.0,\n",
       " 'decision_function_shape': 'ovr',\n",
       " 'degree': 3,\n",
       " 'gamma': 0.01,\n",
       " 'kernel': 'rbf',\n",
       " 'max_iter': -1,\n",
       " 'probability': False,\n",
       " 'random_state': None,\n",
       " 'shrinking': True,\n",
       " 'tol': 0.001,\n",
       " 'verbose': False}"
      ]
     },
     "execution_count": 33,
     "metadata": {},
     "output_type": "execute_result"
    }
   ],
   "source": [
    "classifier.get_params()"
   ]
  },
  {
   "cell_type": "code",
   "execution_count": 34,
   "id": "c46660e4",
   "metadata": {},
   "outputs": [
    {
     "name": "stdout",
     "output_type": "stream",
     "text": [
      "[5 2 2 5 5 4 1 2 5 3 4 5 3 2 4 5 2 3 4 3 2 1 4 2 4 1 4 5 2 1 3 2 2 4 1 5 4\n",
      " 2 3 2 1 1 5 1 2 4 3 2 3 3 2 3 3 3 1 2 2 3 3 5 5 2 3 1 5 1 5 3 5 2 2 1 3 5\n",
      " 4 5 1 1 1 2]\n"
     ]
    }
   ],
   "source": [
    "print(y_pred)"
   ]
  },
  {
   "cell_type": "code",
   "execution_count": 35,
   "id": "3f3f3531",
   "metadata": {},
   "outputs": [
    {
     "name": "stdout",
     "output_type": "stream",
     "text": [
      "Accuracy score: 0.7875\n",
      "Confusion Matrix :\n",
      "[[13  2  0  0  0]\n",
      " [ 2 17  0  0  0]\n",
      " [ 0  3  9  0  1]\n",
      " [ 0  2  3 10  2]\n",
      " [ 0  0  1  1 14]]\n"
     ]
    }
   ],
   "source": [
    "classifier = SVC(gamma = 0.01,C=100,kernel='linear')\n",
    "classifier.fit(x_train,y_train)\n",
    "y_pred = classifier.predict(x_test)\n",
    "print(\"Accuracy score:\",accuracy_score(y_test,y_pred))\n",
    "print(\"Confusion Matrix :\")\n",
    "print(confusion_matrix(y_test,y_pred))"
   ]
  },
  {
   "cell_type": "code",
   "execution_count": null,
   "id": "3894301e",
   "metadata": {},
   "outputs": [],
   "source": []
  }
 ],
 "metadata": {
  "kernelspec": {
   "display_name": "Python 3 (ipykernel)",
   "language": "python",
   "name": "python3"
  },
  "language_info": {
   "codemirror_mode": {
    "name": "ipython",
    "version": 3
   },
   "file_extension": ".py",
   "mimetype": "text/x-python",
   "name": "python",
   "nbconvert_exporter": "python",
   "pygments_lexer": "ipython3",
   "version": "3.9.7"
  }
 },
 "nbformat": 4,
 "nbformat_minor": 5
}
